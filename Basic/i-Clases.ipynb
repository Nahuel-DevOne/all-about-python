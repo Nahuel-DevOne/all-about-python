{
 "cells": [
  {
   "cell_type": "markdown",
   "metadata": {},
   "source": [
    "# `Clases`\n",
    "## POO (Programación Orientada a Objetos) en Python"
   ]
  },
  {
   "cell_type": "markdown",
   "metadata": {},
   "source": [
    "### `Definiendo una clase`\n",
    "`self` es un método de instancia"
   ]
  },
  {
   "cell_type": "code",
   "execution_count": 1,
   "metadata": {},
   "outputs": [
    {
     "name": "stdout",
     "output_type": "stream",
     "text": [
      "Hola, Cody te saluda\n"
     ]
    }
   ],
   "source": [
    "##### class <UpperCamelCase o PascalCase>\n",
    "class Usuario:\n",
    "    # object\n",
    "    def __init__(self, username='', password=''):\n",
    "        self.username = username\n",
    "        self.password = password\n",
    "    \n",
    "    def saludar(self):\n",
    "        mensaje = self.obtener_mensaje()\n",
    "        print(mensaje)\n",
    "        \n",
    "    def obtener_mensaje(self):\n",
    "        return f'Hola, {self.username} te saluda'\n",
    "    \n",
    "cody = Usuario('Cody')\n",
    "cody.saludar()"
   ]
  },
  {
   "cell_type": "markdown",
   "metadata": {},
   "source": [
    "### `Herencia`"
   ]
  },
  {
   "cell_type": "code",
   "execution_count": 2,
   "metadata": {},
   "outputs": [
    {
     "name": "stdout",
     "output_type": "stream",
     "text": [
      "El animal come.\n",
      "<class 'super'>\n",
      "La mascota come.\n",
      "Patricio come.\n"
     ]
    }
   ],
   "source": [
    "class SerVivo:\n",
    "\n",
    "    def dormir(self):\n",
    "        print('El ser duerme.')\n",
    "\n",
    "class Animal(SerVivo): # Clase Padre\n",
    "    \n",
    "    def comer(self):\n",
    "        print('El animal come.')\n",
    "\n",
    "class Mascota(Animal): # Clase Padre\n",
    "    \n",
    "    def comer(self):\n",
    "        super().comer()\n",
    "        print(type(super()))\n",
    "        print('La mascota come.')\n",
    "\n",
    "class Felino:\n",
    "\n",
    "    def cazar(self):\n",
    "        print('El felino caza.')\n",
    "\n",
    "class Gato(Mascota, Felino): # Clase Hija\n",
    "    \n",
    "    def __init__(self, nombre):\n",
    "        self.nombre = nombre\n",
    "\n",
    "    def comer(self):\n",
    "        super().comer()\n",
    "        print(f'{self.nombre} come.')\n",
    "\n",
    "\n",
    "patricio = Gato('Patricio')\n",
    "\n",
    "patricio.comer()\n"
   ]
  },
  {
   "cell_type": "markdown",
   "metadata": {},
   "source": [
    "### `Métodos de clase`\n",
    "Con el decorador `@classmethod` se va a poder utilizar el método de clase sin necesidad de instanciarlo."
   ]
  },
  {
   "cell_type": "code",
   "execution_count": 3,
   "metadata": {},
   "outputs": [
    {
     "name": "stdout",
     "output_type": "stream",
     "text": [
      "615.752032\n"
     ]
    }
   ],
   "source": [
    "class Circulo:\n",
    "\n",
    "    pi = 3.141592\n",
    "\n",
    "    @classmethod\n",
    "    def area(cls, radio):\n",
    "        return cls.pi * (radio ** 2)\n",
    "\n",
    "resultado = Circulo.area(14)\n",
    "print(resultado)"
   ]
  }
 ],
 "metadata": {
  "kernelspec": {
   "display_name": "Python 3",
   "language": "python",
   "name": "python3"
  },
  "language_info": {
   "codemirror_mode": {
    "name": "ipython",
    "version": 3
   },
   "file_extension": ".py",
   "mimetype": "text/x-python",
   "name": "python",
   "nbconvert_exporter": "python",
   "pygments_lexer": "ipython3",
   "version": "3.11.1"
  },
  "orig_nbformat": 4
 },
 "nbformat": 4,
 "nbformat_minor": 2
}

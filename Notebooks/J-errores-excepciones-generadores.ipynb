{
 "cells": [
  {
   "cell_type": "markdown",
   "metadata": {},
   "source": [
    "# ⚡ *`Errores - Excepciones - Generadores`* ⚡"
   ]
  },
  {
   "cell_type": "markdown",
   "metadata": {},
   "source": [
    "## Errores y excepciones (errors - exceptions)"
   ]
  },
  {
   "cell_type": "markdown",
   "metadata": {},
   "source": [
    "Las funciones informan los errores como excepciones. Dado que una excepción interrumpe la ejecución de una función, la misma puede generar que todo el programa se detenga si no es administrada adecuadamente."
   ]
  },
  {
   "cell_type": "code",
   "execution_count": null,
   "metadata": {},
   "outputs": [],
   "source": [
    "int('N/A')"
   ]
  },
  {
   "cell_type": "markdown",
   "metadata": {},
   "source": [
    "Para poder entender qué pasó (debuguear), el mensaje describe cuál fue el problema, dónde ocurrió y un poco de la historia (*traceback*) de los llamados que terminaron en este error."
   ]
  },
  {
   "cell_type": "markdown",
   "metadata": {},
   "source": [
    "### Atrapar y administrar excepciones `try - except`\n",
    "\n",
    "Las excepciones pueden ser atrapadas y administradas. Para atrapar una excepción, se usan los comandos `try` - `except`."
   ]
  },
  {
   "cell_type": "code",
   "execution_count": null,
   "metadata": {},
   "outputs": [],
   "source": [
    "# print(\"\")\n",
    "# lista = [1, 2]\n",
    "# lista[45] # IndexError: list index out of range\n",
    "try:\n",
    "    n1 = int(input(\"Ingresa primer número:\"))\n",
    "except:\n",
    "    print(\"ocurrió un error :(\")"
   ]
  },
  {
   "cell_type": "code",
   "execution_count": null,
   "metadata": {},
   "outputs": [],
   "source": [
    "numero_valido=False\n",
    "while not numero_valido:\n",
    "    try:\n",
    "        a = input('Ingresá un número entero: ')\n",
    "        n = int(a)\n",
    "        numero_valido = True\n",
    "    except ValueError:\n",
    "        print('No es válido. Intentá de nuevo.')\n",
    "print(f'Ingresaste {n}.')"
   ]
  },
  {
   "cell_type": "markdown",
   "metadata": {},
   "source": [
    "Si en este ejemplo ingresas por ejemplo una letra, el comando `n = int(a)` genera una excepción de tipo ValueError: el comando `numero_valido = True` no se ejecuta, la excepción es atrapada por el except `ValueError` y el ciclo se repite. Probalo ingresando letras, números con decimales y números enteros.\n",
    "\n",
    "Suele ser difícil saber exactamente qué tipo de errores pueden ocurrir por adelantado. Para bien o para mal, la administración de excepciones suele ir creciendo a medida que un programa va generando errores inesperados (al mejor estilo: \"Uh! Me olvidé de que podía pasar esto. Deberíamos preverlo y administrarlo adecuadamente para la próxima\")."
   ]
  },
  {
   "cell_type": "markdown",
   "metadata": {},
   "source": [
    "### Tipos de excepciones"
   ]
  },
  {
   "cell_type": "code",
   "execution_count": null,
   "metadata": {},
   "outputs": [],
   "source": [
    "try:\n",
    "    n1 = int(input(\"Ingresa primer número:\"))\n",
    "except ValueError as e:\n",
    "    print(\"Ingrese un valor que corresponda\")\n",
    "except NameError as e:\n",
    "    print(\"Ocurrió un error\")"
   ]
  },
  {
   "cell_type": "markdown",
   "metadata": {},
   "source": [
    "### Try except else finally"
   ]
  },
  {
   "cell_type": "code",
   "execution_count": null,
   "metadata": {},
   "outputs": [],
   "source": [
    "try:\n",
    "    n1 = int(input(\"Ingresa primer número:\"))\n",
    "except Exception as e:\n",
    "    print(\"Ocurrió un error!\")\n",
    "else:\n",
    "    print(\"No ocurrió ningún error\")\n",
    "finally:\n",
    "    print(\"Se ejecuta siempre\")"
   ]
  },
  {
   "cell_type": "markdown",
   "metadata": {},
   "source": [
    "### Ver clases con MoureDev:\n",
    "Clase en [Video](https://youtu.be/Kp4Mvapo5kc?t=32030)"
   ]
  },
  {
   "cell_type": "code",
   "execution_count": null,
   "metadata": {},
   "outputs": [],
   "source": [
    "### Exception Handling ###\n",
    "\n",
    "numberOne = 5\n",
    "numberTwo = 1\n",
    "numberTwo = \"1\"\n",
    "\n",
    "# Excepción base: try except\n",
    "\n",
    "try:\n",
    "    print(numberOne + numberTwo)\n",
    "    print(\"No se ha producido un error\")\n",
    "except:\n",
    "    # Se ejecuta si se produce una excepción\n",
    "    print(\"Se ha producido un error\")\n",
    "\n",
    "# Flujo completo de una excepción: try except else finally\n",
    "\n",
    "try:\n",
    "    print(numberOne + numberTwo)\n",
    "    print(\"No se ha producido un error\")\n",
    "except:\n",
    "    print(\"Se ha producido un error\")\n",
    "else:  # Opcional\n",
    "    # Se ejecuta si no se produce una excepción\n",
    "    print(\"La ejecución continúa correctamente\")\n",
    "finally:  # Opcional\n",
    "    # Se ejecuta siempre\n",
    "    print(\"La ejecución continúa\")\n",
    "\n",
    "# Excepciones por tipo\n",
    "\n",
    "try:\n",
    "    print(numberOne + numberTwo)\n",
    "    print(\"No se ha producido un error\")\n",
    "except ValueError:\n",
    "    print(\"Se ha producido un ValueError\")\n",
    "except TypeError:\n",
    "    print(\"Se ha producido un TypeError\")\n",
    "\n",
    "# Captura de la información de la excepción\n",
    "\n",
    "try:\n",
    "    print(numberOne + numberTwo)\n",
    "    print(\"No se ha producido un error\")\n",
    "except ValueError as error:\n",
    "    print(error)\n",
    "except Exception as my_random_error_name:\n",
    "    print(my_random_error_name)\n"
   ]
  },
  {
   "cell_type": "markdown",
   "metadata": {},
   "source": [
    "### `Invocar o Generar excepciones`\n",
    "\n",
    "Para generar una excepción (también diremos levantar una excepción, porque más cercano al término inglés \"raise\"), se usa el comando `raise`."
   ]
  },
  {
   "cell_type": "code",
   "execution_count": null,
   "metadata": {},
   "outputs": [],
   "source": [
    "raise RuntimeError('Algo salió mal!')"
   ]
  },
  {
   "cell_type": "code",
   "execution_count": null,
   "metadata": {},
   "outputs": [],
   "source": [
    "def division(n=0):\n",
    "    if n == 0:\n",
    "        raise ZeroDivisionError(\"No se puede dividir por 0\", f\"{n}\")\n",
    "    return 5 / n\n",
    "\n",
    "try:\n",
    "    division()\n",
    "except ZeroDivisionError as e:\n",
    "    print(e)"
   ]
  },
  {
   "cell_type": "markdown",
   "metadata": {},
   "source": [
    "### Excepciones customizadas"
   ]
  },
  {
   "cell_type": "code",
   "execution_count": null,
   "metadata": {},
   "outputs": [],
   "source": [
    "class MiError(Exception):\n",
    "    \"Esta clase es para representar mi error\"\n",
    "    \n",
    "    def __init__(self, mensaje, codigo):\n",
    "        self.mensaje = mensaje\n",
    "        self.codigo = codigo\n",
    "        \n",
    "    def __str__(self):\n",
    "        return f\"{self.mensaje} - Codigo: {self.codigo}\"\n",
    "        \n",
    "    \n",
    "def division(n=0):\n",
    "    if n == 0:\n",
    "        raise MiError(\"No se puede dividir por 0\", f\"{n}\")\n",
    "    return 5 / n\n",
    "\n",
    "try:\n",
    "    division()\n",
    "except MiError as e:\n",
    "    print(e)"
   ]
  },
  {
   "cell_type": "markdown",
   "metadata": {},
   "source": [
    "## Generadores\n",
    "Los generadores en Python son un tipo especial de función que permiten crear iteradores de forma rápida y sencilla. Los generadores generan valores paso a paso, lo que permite un uso eficiente de la memoria. "
   ]
  },
  {
   "cell_type": "code",
   "execution_count": null,
   "metadata": {},
   "outputs": [],
   "source": [
    "def pares(): # Generador -> Lazy iterator\n",
    "    for numero in range(0,20,2):\n",
    "        yield numero # suspende de forma momentanea la ejecución de la función, para retornar un objeto\n",
    "        \n",
    "        print('Se reanuda la ejecución')\n",
    "        \n",
    "# for par in pares():\n",
    "#     print(par)    \n",
    "# en cada iteración la función retorna y pausa su ejecución\n",
    "\n",
    "# usando el lazy iterator\n",
    "generador = pares()\n",
    "\n",
    "while True:\n",
    "    try:\n",
    "        par = next(generador)\n",
    "        print(par)\n",
    "    except StopIteration:\n",
    "        print('El generador finalizó.')\n",
    "        break"
   ]
  }
 ],
 "metadata": {
  "language_info": {
   "name": "python"
  }
 },
 "nbformat": 4,
 "nbformat_minor": 2
}

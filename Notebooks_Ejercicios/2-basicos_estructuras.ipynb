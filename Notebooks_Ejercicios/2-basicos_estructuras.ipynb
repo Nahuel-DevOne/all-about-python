{
 "cells": [
  {
   "cell_type": "markdown",
   "metadata": {},
   "source": [
    "<div align=\"center\">\n",
    "    <h1>Ejercicios Básicos sobre estructuras de datos</h1>\n",
    "</div>\n"
   ]
  },
  {
   "cell_type": "markdown",
   "metadata": {},
   "source": [
    "## Listas"
   ]
  },
  {
   "cell_type": "markdown",
   "metadata": {},
   "source": [
    "Operaciones con listas\n",
    "\n",
    "Crear una función que reciba como parámetro una lista de números y devuelva una lista con los valores siguientes:\n",
    "\n",
    "- Suma de los elementos de la lista\n",
    "- El valor máximo de la lista\n",
    "- El valor mínimo de la lista\n",
    "- La lista de números ordenada de forma ascendente\n",
    "- La lista con los cuadrados de cada número de la lista\n",
    "\n",
    "def operaciones_con_listas(numeros):\n",
    "\n",
    "Ejemplo de uso\n",
    "\n",
    "numeros = [5, 2, 9, 1, 7]\n",
    "resultados = operaciones_con_listas(numeros)\n",
    "- print(\"Resultados:\")\n",
    "- print(\"Suma:\", resultados[0])\n",
    "- print(\"Número máximo:\", resultados[1])\n",
    "- print(\"Número mínimo:\", resultados[2])\n",
    "- print(\"Lista ordenada ascendente:\", resultados[3])\n",
    "- print(\"Cuadrados de los números:\", resultados[4])\n",
    "\n",
    "Resultados:\n",
    "- Suma: 24\n",
    "- Número máximo: 9\n",
    "- Número mínimo: 1\n",
    "- Lista ordenada ascendente: [1, 2, 5, 7, 9]\n",
    "- Cuadrados de los números: [25, 4, 81, 1, 49]\n"
   ]
  },
  {
   "cell_type": "code",
   "execution_count": 1,
   "metadata": {},
   "outputs": [
    {
     "name": "stdout",
     "output_type": "stream",
     "text": [
      "Resultados:\n",
      "Suma: 24\n",
      "Número máximo: 9\n",
      "Número mínimo: 1\n",
      "Lista ordenada ascendente: [1, 2, 5, 7, 9]\n",
      "Cuadrados de los números: [25, 4, 81, 1, 49]\n"
     ]
    }
   ],
   "source": [
    "def operaciones_con_listas(numeros):\n",
    "    # Suma de los elementos de la lista\n",
    "    suma = sum(numeros)\n",
    "    \n",
    "    # El valor máximo de la lista\n",
    "    maximo = max(numeros)\n",
    "    \n",
    "    # El valor mínimo de la lista\n",
    "    minimo = min(numeros)\n",
    "    \n",
    "    # La lista de números ordenada de forma ascendente\n",
    "    ordenada = sorted(numeros)\n",
    "    \n",
    "    # La lista con los cuadrados de cada número de la lista\n",
    "    cuadrados = [x ** 2 for x in numeros]\n",
    "    \n",
    "    # Devolvemos una lista con todos los resultados\n",
    "    return [suma, maximo, minimo, ordenada, cuadrados]\n",
    "\n",
    "# Ejemplo de uso\n",
    "numeros = [5, 2, 9, 1, 7]\n",
    "resultados = operaciones_con_listas(numeros)\n",
    "print(\"Resultados:\")\n",
    "print(\"Suma:\", resultados[0])\n",
    "print(\"Número máximo:\", resultados[1])\n",
    "print(\"Número mínimo:\", resultados[2])\n",
    "print(\"Lista ordenada ascendente:\", resultados[3])\n",
    "print(\"Cuadrados de los números:\", resultados[4])\n"
   ]
  },
  {
   "cell_type": "markdown",
   "metadata": {},
   "source": [
    "## Tuplas"
   ]
  },
  {
   "cell_type": "markdown",
   "metadata": {},
   "source": []
  },
  {
   "cell_type": "code",
   "execution_count": null,
   "metadata": {},
   "outputs": [],
   "source": []
  },
  {
   "cell_type": "markdown",
   "metadata": {},
   "source": [
    "## Sets o Conjuntos"
   ]
  },
  {
   "cell_type": "markdown",
   "metadata": {},
   "source": []
  },
  {
   "cell_type": "code",
   "execution_count": null,
   "metadata": {},
   "outputs": [],
   "source": []
  },
  {
   "cell_type": "markdown",
   "metadata": {},
   "source": [
    "## Diccionarios"
   ]
  },
  {
   "cell_type": "markdown",
   "metadata": {},
   "source": []
  },
  {
   "cell_type": "code",
   "execution_count": null,
   "metadata": {},
   "outputs": [],
   "source": []
  },
  {
   "cell_type": "markdown",
   "metadata": {},
   "source": [
    "## Combinación de estructuras"
   ]
  },
  {
   "cell_type": "markdown",
   "metadata": {},
   "source": [
    "#### Ejercicios\n",
    "\n",
    "1. Eliminar los espacios en blanco de un string y devolver una lista con los caracteres restantes\n",
    "\n",
    "2. Contar en un diccionario cuánto se repiten los caracteres de un string\n",
    "\n",
    "3. Ordenar las llaves de un diccionario por el valor que tienen y devolver una lista que contiene tuplas [(\"a\", 3), (\"b\", 2), (\"c\", 4), (\"d\", 4) ]\n",
    "\n",
    "4. De un listado de tuplas, devolver las tuplas que tengan el mayor valor. [(\"a\", 3), (\"b\", 2), (\"c\", 4)] -> [(\"c\", 4)]\n",
    "\n",
    "5. Crear un mensaje que diga: Los caracteres que más se repiten con 4 repeticiones son:\n",
    "   - C\n",
    "   - D\n",
    "\n",
    "6. Juntar la solución de los ejercicios anteriores para encontrar los caracteres que más se repiten de un string."
   ]
  },
  {
   "cell_type": "code",
   "execution_count": null,
   "metadata": {},
   "outputs": [],
   "source": [
    "# para mejorar el formato de los iterables\n",
    "from pprint import pprint\n",
    "# Para  agregar caracteres especiales, como los acentos en los print\n",
    "import sys\n",
    "sys.stdout.reconfigure(encoding='utf-8')"
   ]
  },
  {
   "cell_type": "code",
   "execution_count": null,
   "metadata": {},
   "outputs": [],
   "source": [
    "# Ejercicio 1\n",
    "string = \"Hola mundo este es mi string\"\n",
    "def quita_espacios(texto):\n",
    "    # usando comprensión de listas\n",
    "    return [char for char in texto if char != \" \"]\n",
    "\n",
    "\n",
    "sin_espacios = quita_espacios(string)\n",
    "print(\"Ejercicio 1:\", sin_espacios)"
   ]
  },
  {
   "cell_type": "code",
   "execution_count": null,
   "metadata": {},
   "outputs": [],
   "source": [
    "# Ejercicio 2\n",
    "# reutiliza código del ejercicio 1\n",
    "def cuenta_caracteres(lista):\n",
    "    chars_dict = {}\n",
    "    for char in lista:\n",
    "        if char in chars_dict:\n",
    "            chars_dict[char] += 1\n",
    "        else:\n",
    "            chars_dict[char] = 1\n",
    "    return chars_dict\n",
    "\n",
    "\n",
    "contados = cuenta_caracteres(sin_espacios)\n",
    "print(\"Ejercicio 2:\")\n",
    "pprint(contados, width=1) # para este caso el width se puede sacar"
   ]
  },
  {
   "cell_type": "code",
   "execution_count": null,
   "metadata": {},
   "outputs": [],
   "source": [
    "# Ejercicio 3\n",
    "# reutiliza código del ejercicio 2\n",
    "def ordena(dict):\n",
    "    # retorna una lista de tuplas con los caracteres que más se repiten al comienzo\n",
    "    return sorted(\n",
    "        dict.items(),\n",
    "        key=lambda key: key[1],\n",
    "        reverse=True, \n",
    "    )\n",
    "    \n",
    "    \n",
    "ordenados = ordena(contados)\n",
    "print(\"Ejercicio 3:\")\n",
    "pprint(ordenados)"
   ]
  },
  {
   "cell_type": "code",
   "execution_count": null,
   "metadata": {},
   "outputs": [],
   "source": [
    "# Ejercicio 4\n",
    "# reutiliza código del ejercicio 3\n",
    "def mayores_tuplas(lista):\n",
    "    maximo = lista[0][1]\n",
    "    respuesta = {}\n",
    "    for orden in lista:\n",
    "        if maximo > orden[1]:\n",
    "            break\n",
    "        respuesta[orden[0]] = orden[1]\n",
    "    return respuesta   \n",
    "    \n",
    "mayores = mayores_tuplas(ordenados)\n",
    "print(\"Ejercicio 4:\\n\", mayores)"
   ]
  },
  {
   "cell_type": "code",
   "execution_count": null,
   "metadata": {},
   "outputs": [],
   "source": [
    "# Ejercicio 5 \n",
    "# reutiliza código del ejercicio 4\n",
    "def crea_mensaje(diccionario):\n",
    "    mensaje = \"Los que más se repiten son: \\n\"\n",
    "    for key, value in diccionario.items():\n",
    "        mensaje += f\"- {key} con {value} repeticiones \\n\"\n",
    "    return mensaje\n",
    "    \n",
    "mensaje = crea_mensaje(mayores)\n",
    "print(\"Ejercicio 5\")\n",
    "print(mensaje)"
   ]
  },
  {
   "cell_type": "markdown",
   "metadata": {},
   "source": []
  },
  {
   "cell_type": "code",
   "execution_count": null,
   "metadata": {},
   "outputs": [],
   "source": []
  },
  {
   "cell_type": "markdown",
   "metadata": {},
   "source": []
  },
  {
   "cell_type": "code",
   "execution_count": null,
   "metadata": {},
   "outputs": [],
   "source": []
  },
  {
   "cell_type": "markdown",
   "metadata": {},
   "source": []
  },
  {
   "cell_type": "code",
   "execution_count": null,
   "metadata": {},
   "outputs": [],
   "source": []
  },
  {
   "cell_type": "markdown",
   "metadata": {},
   "source": []
  },
  {
   "cell_type": "code",
   "execution_count": null,
   "metadata": {},
   "outputs": [],
   "source": []
  },
  {
   "cell_type": "markdown",
   "metadata": {},
   "source": []
  },
  {
   "cell_type": "code",
   "execution_count": null,
   "metadata": {},
   "outputs": [],
   "source": []
  },
  {
   "cell_type": "markdown",
   "metadata": {},
   "source": []
  },
  {
   "cell_type": "code",
   "execution_count": null,
   "metadata": {},
   "outputs": [],
   "source": []
  },
  {
   "cell_type": "markdown",
   "metadata": {},
   "source": []
  },
  {
   "cell_type": "code",
   "execution_count": null,
   "metadata": {},
   "outputs": [],
   "source": []
  },
  {
   "cell_type": "markdown",
   "metadata": {},
   "source": []
  },
  {
   "cell_type": "code",
   "execution_count": null,
   "metadata": {},
   "outputs": [],
   "source": []
  },
  {
   "cell_type": "markdown",
   "metadata": {},
   "source": []
  },
  {
   "cell_type": "code",
   "execution_count": null,
   "metadata": {},
   "outputs": [],
   "source": []
  },
  {
   "cell_type": "markdown",
   "metadata": {},
   "source": []
  },
  {
   "cell_type": "code",
   "execution_count": null,
   "metadata": {},
   "outputs": [],
   "source": []
  },
  {
   "cell_type": "markdown",
   "metadata": {},
   "source": []
  },
  {
   "cell_type": "code",
   "execution_count": null,
   "metadata": {},
   "outputs": [],
   "source": []
  }
 ],
 "metadata": {
  "kernelspec": {
   "display_name": "Python 3",
   "language": "python",
   "name": "python3"
  },
  "language_info": {
   "codemirror_mode": {
    "name": "ipython",
    "version": 3
   },
   "file_extension": ".py",
   "mimetype": "text/x-python",
   "name": "python",
   "nbconvert_exporter": "python",
   "pygments_lexer": "ipython3",
   "version": "3.11.1"
  }
 },
 "nbformat": 4,
 "nbformat_minor": 2
}
